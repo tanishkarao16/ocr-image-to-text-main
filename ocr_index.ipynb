{
 "cells": [
  {
   "cell_type": "code",
   "execution_count": 120,
   "metadata": {},
   "outputs": [],
   "source": [
    "import pytesseract\n",
    "from PIL import Image\n",
    "image_file = \"ocr_index.jpg\""
   ]
  },
  {
   "cell_type": "code",
   "execution_count": 121,
   "metadata": {},
   "outputs": [],
   "source": [
    "img = Image.open(image_file)\n"
   ]
  },
  {
   "cell_type": "code",
   "execution_count": 122,
   "metadata": {},
   "outputs": [],
   "source": [
    "img.show()"
   ]
  },
  {
   "cell_type": "code",
   "execution_count": 123,
   "metadata": {},
   "outputs": [],
   "source": [
    "ocr_result=pytesseract.image_to_string(img)"
   ]
  },
  {
   "cell_type": "code",
   "execution_count": 124,
   "metadata": {},
   "outputs": [
    {
     "name": "stdout",
     "output_type": "stream",
     "text": [
      "INDEX NOMINUM.\n",
      "\n",
      "Abbot, George, Archbishop, 47, 186\n",
      "\n",
      "‘Abel, John, 12\n",
      "\n",
      "‘Aborne, ohn (query is he the John\n",
      "Abel of p. 129), 44\n",
      "\n",
      "Anderson, Sir Edmund, 118 (Lord Chief\n",
      "Justice of Common Pleas)\n",
      "\n",
      "Andrews, Bishop of Ely, 186\n",
      "\n",
      "Androwes, Walter, 162, 163\n",
      "\n",
      "‘Anslowe, Brian (formerly Warden of\n",
      "Fleet), 9, 17, 116, 118, 185\n",
      "\n",
      "Appleworth, 62\n",
      "\n",
      "Aprice, Sir William, 158\n",
      "\n",
      "Arundell, Earl of, 168, 169, 170\n",
      "\n",
      "Babington (formerly Warden of Fleet), |\n",
      "9 i Cheyney, Richard, Bishop of Gloucester,\n",
      "\n",
      "Babington, Mrs. widow of Uriah Ba-\n",
      "bington, 120\n",
      "\n",
      "Babington (Uriah), 120, 192\n",
      "\n",
      "Bacon, Sir Francis, 115, 116, 118, 186,\n",
      "190-193\n",
      "\n",
      "Bacon, Sir Nicholas, 153\n",
      "\n",
      "Barbar, John, 164\n",
      "\n",
      "Bate, Anthony, 162, 163\n",
      "\n",
      "Batty, Lionel, 188\n",
      "\n",
      "Beard, 192\n",
      "\n",
      "Beare, Edward, 7, 58, 190\n",
      "\n",
      "Beare, Gilbert, 158\n",
      "\n",
      "Beestone, 109\n",
      "\n",
      "Bland, Mr. 182\n",
      "\n",
      "Blechenden, James, 187\n",
      "\n",
      "Blunt, Lady Amy, 7, 72, 143-146, 193\n",
      "\n",
      "Blant, Edward, 143, 145, 193\n",
      "\n",
      "Boughton, Henry, 83,3442, 44-16, 161,\n",
      "18\n",
      "\n",
      "Boyer, Sir Edmund, 171\n",
      "Briggs, Mr. 181\n",
      "\n",
      "Brittaine, Thomas, 164\n",
      "Brockas. Richard, 180\n",
      "Brockas, Mrs. Elizabeth, 181\n",
      "Brough, Robert, 115\n",
      "Browne, Elizabeth, 187\n",
      "Browne, William, '187\n",
      "Brownfennell, Baron, 86\n",
      "Bryant, Christopher, 141\n",
      "Bullingham, 61\n",
      "\n",
      "Burleigh, Lord, 162\n",
      "\n",
      "Cesar, Julius, 165\n",
      "\n",
      "Calvert, Mr. Secretary, 168, 170\n",
      "\n",
      "Carew y. Carie, Sir Nicholas, 171\n",
      "\n",
      "Carleton, Sir Dudley, 190\n",
      "\n",
      "Carrie, John, 153\n",
      "\n",
      "Catlin, Sir Robert, 153, 154\n",
      "\n",
      "Cawlton, John (formerly Warden of\n",
      "Fleet), 9, 185\n",
      "\n",
      "Chamberlayn, Edmund, 7, 23, 26, 44, 45,\n",
      "60, 62, 71, 72, 85, 120, 158, 188\n",
      "\n",
      "Chamberlayn, Sir Thomas, 188\n",
      "\n",
      "Chamberlayn, Sir John, 188\n",
      "\n",
      "Chappell, John, 148\n",
      "\n",
      "Cleare, Sir Edward, 45, 190\n",
      "\n",
      "Cocke, Robert, 164\n",
      "\n",
      "Coke, Sir Edward, 12, 49, 105, 126, 130,\n",
      "168, 169, 171, 190\n",
      "\n",
      "Cooke, Henry (Porter of Fleet), 6\n",
      "\n",
      "Cooke ——, a keeper at Newgate, 45\n",
      "\n",
      "Copeman, ——, 61\n",
      "\n",
      "Coppin, Edward, 7, 42-46, 62, 68, 151\n",
      "\n",
      "Corbet, Clement, 188\n",
      "\n",
      "Cordell, Sir William, 163, 164\n",
      "\n",
      "Cowdrey, Walter, 181\n",
      "\n",
      "Dallison, Sir William, 188\n",
      "\n",
      "| Dallison, Barbara, 188\n",
      "\n",
      "Digby, Lord, 168, 169, 170, 185\n",
      "Digby, Katharine, 188\n",
      "\n",
      "Digby, Sir Everard, 188\n",
      "Downes, Edward, 128, 192\n",
      "Downes, Robert, 192\n",
      "Dubbleday, Edmond, 171\n",
      "Ducy, Sir William, Bart. 181\n",
      "Dyer, Sir Francis, 153, 154\n",
      "\n",
      "Edmondes, C. 117\n",
      "\n",
      "Edmondes, Sir Clement, 167\n",
      "\n",
      "Edolph, Symon, 181\n",
      "\n",
      "Edolph, Sir Thomas, 181\n",
      "\n",
      "Englefield, Sir Francis, 7, 38, 44, 58, 59,\n",
      "62,76,77,83,93, 139, 142, 158, 189, 190\n",
      "\n",
      "\" Englefield, John, \"189\n",
      "\n"
     ]
    }
   ],
   "source": [
    "print(ocr_result)"
   ]
  },
  {
   "cell_type": "code",
   "execution_count": 125,
   "metadata": {},
   "outputs": [],
   "source": [
    "import cv2\n",
    "image = cv2.imread(\"ocr_index.jpg\")"
   ]
  },
  {
   "cell_type": "code",
   "execution_count": 126,
   "metadata": {},
   "outputs": [],
   "source": [
    "gray = cv2.cvtColor(image , cv2.COLOR_BGR2GRAY)"
   ]
  },
  {
   "cell_type": "code",
   "execution_count": 127,
   "metadata": {},
   "outputs": [
    {
     "data": {
      "text/plain": [
       "True"
      ]
     },
     "execution_count": 127,
     "metadata": {},
     "output_type": "execute_result"
    }
   ],
   "source": [
    "cv2.imwrite(\"temp/index_gray.jpg\",gray)"
   ]
  },
  {
   "cell_type": "code",
   "execution_count": 128,
   "metadata": {},
   "outputs": [],
   "source": [
    "blur = cv2.GaussianBlur(gray, (7,7), 0)"
   ]
  },
  {
   "cell_type": "code",
   "execution_count": 129,
   "metadata": {},
   "outputs": [
    {
     "data": {
      "text/plain": [
       "True"
      ]
     },
     "execution_count": 129,
     "metadata": {},
     "output_type": "execute_result"
    }
   ],
   "source": [
    "cv2.imwrite(\"temp/index_blur.jpg\",blur)"
   ]
  },
  {
   "cell_type": "code",
   "execution_count": 130,
   "metadata": {},
   "outputs": [],
   "source": [
    "thresh = cv2.threshold(blur, 0, 255, cv2.THRESH_BINARY_INV + cv2.THRESH_OTSU)[1]"
   ]
  },
  {
   "cell_type": "code",
   "execution_count": 131,
   "metadata": {},
   "outputs": [
    {
     "data": {
      "text/plain": [
       "True"
      ]
     },
     "execution_count": 131,
     "metadata": {},
     "output_type": "execute_result"
    }
   ],
   "source": [
    "cv2.imwrite(\"temp/index_thresh.jpg\",thresh)"
   ]
  },
  {
   "cell_type": "code",
   "execution_count": 132,
   "metadata": {},
   "outputs": [],
   "source": [
    "kernel = cv2.getStructuringElement(cv2.MORPH_RECT, (3,13))"
   ]
  },
  {
   "cell_type": "code",
   "execution_count": 133,
   "metadata": {},
   "outputs": [
    {
     "data": {
      "text/plain": [
       "True"
      ]
     },
     "execution_count": 133,
     "metadata": {},
     "output_type": "execute_result"
    }
   ],
   "source": [
    "cv2.imwrite(\"temp/index_kernel.jpg\",kernel)"
   ]
  },
  {
   "cell_type": "code",
   "execution_count": 134,
   "metadata": {},
   "outputs": [],
   "source": [
    "dilate = cv2.dilate(thresh, kernel, iterations=1)"
   ]
  },
  {
   "cell_type": "code",
   "execution_count": 135,
   "metadata": {},
   "outputs": [
    {
     "data": {
      "text/plain": [
       "True"
      ]
     },
     "execution_count": 135,
     "metadata": {},
     "output_type": "execute_result"
    }
   ],
   "source": [
    "cv2.imwrite(\"temp/index_dilate.jpg\",dilate)"
   ]
  },
  {
   "cell_type": "code",
   "execution_count": 136,
   "metadata": {},
   "outputs": [],
   "source": [
    "cnts =cv2.findContours(dilate, cv2.RETR_EXTERNAL, cv2.CHAIN_APPROX_SIMPLE)\n",
    "cnts = cnts[0] if len(cnts) == 2 else cnts[1]"
   ]
  },
  {
   "cell_type": "code",
   "execution_count": 137,
   "metadata": {},
   "outputs": [],
   "source": [
    "cnts = sorted(cnts, key = lambda x: cv2.boundingRect(x)[0])"
   ]
  },
  {
   "cell_type": "code",
   "execution_count": 138,
   "metadata": {},
   "outputs": [
    {
     "data": {
      "text/plain": [
       "True"
      ]
     },
     "execution_count": 138,
     "metadata": {},
     "output_type": "execute_result"
    }
   ],
   "source": [
    "results=[]\n",
    "for c in cnts:\n",
    "    x, y, w, h = cv2.boundingRect(c)\n",
    "    if h > 200 and w>50:\n",
    "        roi = image[y:y+h, x:x+h]\n",
    "        cv2.rectangle(image, (x,y), (x+w, y+h), (36,255,12),2)\n",
    "        ocr_result=pytesseract.image_to_string(roi)\n",
    "        ocr_result=ocr_result.split(\"\\n\")\n",
    "        for item in ocr_result:\n",
    "            results.append(item)\n",
    "cv2.imwrite(\"temp/index_bbox_new.jpg\",image)"
   ]
  },
  {
   "cell_type": "code",
   "execution_count": 139,
   "metadata": {},
   "outputs": [
    {
     "name": "stdout",
     "output_type": "stream",
     "text": [
      "['Babington (formerly Warde:', '9', '', 'Babington, Mrs. widow of Uriah Ba-', 'bington, 120', '', 'Babington (Uriah), 120, 192', '', 'Bacon, Sir Francis, 118, 11', '190-193', '', 'Bacon, Sir Nicholas, 153', '', 'Barbar, John, 164', '', 'Bate, Anthony, 162, 163', '', 'Batty, Lionel, 188', '', 'Beard, 192', '', 'Beare, Edward, 7, 58, 190', '', 'Beare, Gilbert, 158', '', 'Beestone, 109', '', 'Bland, Mr. 182', '', 'Blechenden, James, 187', '', 'Blunt, Lady Amy, 7, 72, 143-145, 193', '', 'Blunt, Edward, 143, 145, 193', '', 'Boughton, Henry, 83,3442,', '18', '', ', 118, 186,', '', '4-46, 161,', '', 'Boyer, Sir Edmund, 171', 'Briggs, Mr. 181', 'Brittaine, Thomas, 164', 'Brockas. Richard, 180', 'Brockas, Mrs. Elizabeth, 181', 'Brough, Robert, 115', 'Browne, Elizabeth, 187', 'Browne, William, 187', 'Brownfennell, Baron, 86', 'Bryant, Christopher, 141', 'Bullingham, 61', '', 'of Fleet), |', 'i Cheyney, Richard, Bishop of', '', 'Chappell, John, 148', '', 'Cleare, Sir Edward, 45, 190', '', 'Cocke, Robert, 164', '', 'Coke, Sir Edward, 12, 49, 10', '168, 169, 171, 190', '', 'Cooke, Henry (Porter of Fle', '', 'Cooke —, ‘a keeper at New,', '', 'Copeman, ——, 61', '', 'Coppin, Edward, 7, 42-46, 62', '', 'Corbet, Clement, 188', '', 'Cordell, Sir William, 163, 15', '', 'Cowdrey, Walter, 181', '', 'Dallison, Sir William, 188', 'Dallison, Barbara, 188', 'Digby, Lord, 168, 169, 170, 1', 'Digby, Katharine, 188', 'Digby, Sir Everard, 188', 'Downes, Edward, 128, 192', 'Downes, Robert, 192', 'Dubbleday, Edmond, 171', 'Ducy, Sir William, Bart. 181', 'Dyer, Sir Francis, 153, 154', '', 'Edmondes, C. 117', '', 'Edmondes, Sir Clement, 167', '', 'Edolph, Symon, 181', '', 'Edolph, Sir Thomas, 181', '', 'Englefield, Sir Francis, 7, 38', '62, 76,77, 83,93, 139, 142, 1', '', 'Englefield, John, 189', '', 'Abbot, George, Archbishop, 4', 'Abel, John, 129', 'Aborne, John (query is he', 'Abel of p. 129), 44', 'Anderson, Sir Edmund, 118 (1', 'Justice of Common Pleas)', 'Andrews, Bishop of Ely, 186', 'Androwes, Walter, 162, 163', 'Anslowe, Brian (formerly V', 'Fleet), 9, 17, 115, 118, 185', 'Appleworth, 62', 'Aprice, Sir William, 158', 'Arundell, Earl of, 168, 169, 17', '', '', 'Cesar, Julius, 165', '', 'Calvert, Mr. Secretary, 168, 170', '', '‘Carew y. Carie, Sir Nicholas, 171', '', 'Carleton, Sir Dudley, 190', '', 'Carrie, John, 153', '', 'Catlin, Sir Robert, 153, 154', '', 'Cawlton, John (formerly Warden| of', 'Fleet), 9, 185', '', 'Chamberlayn, Edmund, 7, 23, 26, 44, 45,', '60, 62, 71, 72, 85, 120, 158, 188', '', 'Chamberlayn, Sir Thomas, 188', '', 'Chamberlayn, Six John, 188', '', 'Chappell, John, 148', '', 'Cheyney, Richard, Bisbop of Glouce', '191', '', 'Cleare, Sir Edward, 45, 190', '', 'Cocke, Robert, 164', '', 'Coke, Sir Edward, 12, 49, 105, 126, 130,', '168, 169, 171, 190', '', 'Cooke, Henry (Porter of Fleet), 6', '', 'Cooke ——, ‘a keeper at Newgate, 45', '', 'Copeman, ——, 61', '', 'Coppin, Edward, 7, 42-46, 62, 68, 15', '', 'Corbet, Clement, 188', '', 'Cordell, Sir William, 163, 164', '', 'Cowdrey, Walter, 181', '', 'Dallison, Sir William, 188', 'Dallison, Barbara, 188', '', 'Digby, Lord, 168, 169, 170, 186', 'Digby, Katharine, 188', '', 'Digby, Sir Everard, 188', 'Downes, Edward, 128, 192', 'Downes, Robert, 192', 'Dubbleday, Edmond, 171', 'Ducy, Sir William, Bart. 181', 'Dyer, Sir Francis, 153, 154', '', 'Edmondes, C. 117', 'Edmondes, Sir Clement, 167', 'Edolph, Symon, 181', 'Edolph, Sir Thomas, 181', 'Englefield, Sir Francis, 7, 38, 44, 58,59,', '62, 76,77, 83,93, 139, 142, 158, 189,/190', 'Englefield, John, 189', '', '']\n"
     ]
    }
   ],
   "source": [
    "print(results)"
   ]
  },
  {
   "cell_type": "code",
   "execution_count": 140,
   "metadata": {},
   "outputs": [
    {
     "name": "stdout",
     "output_type": "stream",
     "text": [
      "Babington\n",
      "Babington\n",
      "Babington\n",
      "Bacon\n",
      "Bacon\n",
      "Barbar\n",
      "Bate\n",
      "Batty\n",
      "Beard\n",
      "Beare\n",
      "Beare\n",
      "Beestone\n",
      "Bland\n",
      "Blechenden\n",
      "Blunt\n",
      "Blunt\n",
      "Boughton\n",
      "Boyer\n",
      "Briggs\n",
      "Brittaine\n",
      "Brockas\n",
      "Brockas\n",
      "Brough\n",
      "Browne\n",
      "Browne\n",
      "Brownfennell\n",
      "Bryant\n",
      "Bullingham\n",
      "Chappell\n",
      "Cleare\n",
      "Cocke\n",
      "Coke\n",
      "Cooke\n",
      "Cooke\n",
      "Copeman\n",
      "Coppin\n",
      "Corbet\n",
      "Cordell\n",
      "Cowdrey\n",
      "Dallison\n",
      "Dallison\n",
      "Digby\n",
      "Digby\n",
      "Digby\n",
      "Downes\n",
      "Downes\n",
      "Dubbleday\n",
      "Ducy\n",
      "Dyer\n",
      "Edmondes\n",
      "Edmondes\n",
      "Edolph\n",
      "Edolph\n",
      "Englefield\n",
      "Englefield\n",
      "Abbot\n",
      "Abel\n",
      "Aborne\n",
      "Abel\n",
      "Anderson\n",
      "Justice\n",
      "Andrews\n",
      "Androwes\n",
      "Anslowe\n",
      "Fleet\n",
      "Appleworth\n",
      "Aprice\n",
      "Arundell\n",
      "Cesar\n",
      "Calvert\n",
      "Carleton\n",
      "Carrie\n",
      "Catlin\n",
      "Cawlton\n",
      "Fleet\n",
      "Chamberlayn\n",
      "Chamberlayn\n",
      "Chamberlayn\n",
      "Chappell\n",
      "Cheyney\n",
      "Cleare\n",
      "Cocke\n",
      "Coke\n",
      "Cooke\n",
      "Cooke\n",
      "Copeman\n",
      "Coppin\n",
      "Corbet\n",
      "Cordell\n",
      "Cowdrey\n",
      "Dallison\n",
      "Dallison\n",
      "Digby\n",
      "Digby\n",
      "Digby\n",
      "Downes\n",
      "Downes\n",
      "Dubbleday\n",
      "Ducy\n",
      "Dyer\n",
      "Edmondes\n",
      "Edmondes\n",
      "Edolph\n",
      "Edolph\n",
      "Englefield\n",
      "Englefield\n"
     ]
    }
   ],
   "source": [
    "entities=[]\n",
    "for item in results:\n",
    "    item = item.strip()\n",
    "    item = item.split(\" \")[0]\n",
    "    if len(item)>0:\n",
    "        if item[0].isupper():\n",
    "            item = item.split(\".\")[0].replace(\",\",\"\").replace(\")\",\"\")\n",
    "            print(item)\n",
    "            entities.append(item)\n",
    "    "
   ]
  },
  {
   "cell_type": "code",
   "execution_count": 141,
   "metadata": {},
   "outputs": [
    {
     "name": "stdout",
     "output_type": "stream",
     "text": [
      "['Babington', 'Babington', 'Babington', 'Bacon', 'Bacon', 'Barbar', 'Bate', 'Batty', 'Beard', 'Beare', 'Beare', 'Beestone', 'Bland', 'Blechenden', 'Blunt', 'Blunt', 'Boughton', 'Boyer', 'Briggs', 'Brittaine', 'Brockas', 'Brockas', 'Brough', 'Browne', 'Browne', 'Brownfennell', 'Bryant', 'Bullingham', 'Chappell', 'Cleare', 'Cocke', 'Coke', 'Cooke', 'Cooke', 'Copeman', 'Coppin', 'Corbet', 'Cordell', 'Cowdrey', 'Dallison', 'Dallison', 'Digby', 'Digby', 'Digby', 'Downes', 'Downes', 'Dubbleday', 'Ducy', 'Dyer', 'Edmondes', 'Edmondes', 'Edolph', 'Edolph', 'Englefield', 'Englefield', 'Abbot', 'Abel', 'Aborne', 'Abel', 'Anderson', 'Justice', 'Andrews', 'Androwes', 'Anslowe', 'Fleet', 'Appleworth', 'Aprice', 'Arundell', 'Cesar', 'Calvert', 'Carleton', 'Carrie', 'Catlin', 'Cawlton', 'Fleet', 'Chamberlayn', 'Chamberlayn', 'Chamberlayn', 'Chappell', 'Cheyney', 'Cleare', 'Cocke', 'Coke', 'Cooke', 'Cooke', 'Copeman', 'Coppin', 'Corbet', 'Cordell', 'Cowdrey', 'Dallison', 'Dallison', 'Digby', 'Digby', 'Digby', 'Downes', 'Downes', 'Dubbleday', 'Ducy', 'Dyer', 'Edmondes', 'Edmondes', 'Edolph', 'Edolph', 'Englefield', 'Englefield']\n"
     ]
    }
   ],
   "source": [
    "print(entities)"
   ]
  },
  {
   "cell_type": "code",
   "execution_count": 142,
   "metadata": {},
   "outputs": [],
   "source": [
    "entities=list(set(entities))"
   ]
  },
  {
   "cell_type": "code",
   "execution_count": 143,
   "metadata": {},
   "outputs": [
    {
     "name": "stdout",
     "output_type": "stream",
     "text": [
      "['Abbot', 'Abel', 'Aborne', 'Anderson', 'Andrews', 'Androwes', 'Anslowe', 'Appleworth', 'Aprice', 'Arundell', 'Babington', 'Bacon', 'Barbar', 'Bate', 'Batty', 'Beard', 'Beare', 'Beestone', 'Bland', 'Blechenden', 'Blunt', 'Boughton', 'Boyer', 'Briggs', 'Brittaine', 'Brockas', 'Brough', 'Browne', 'Brownfennell', 'Bryant', 'Bullingham', 'Calvert', 'Carleton', 'Carrie', 'Catlin', 'Cawlton', 'Cesar', 'Chamberlayn', 'Chappell', 'Cheyney', 'Cleare', 'Cocke', 'Coke', 'Cooke', 'Copeman', 'Coppin', 'Corbet', 'Cordell', 'Cowdrey', 'Dallison', 'Digby', 'Downes', 'Dubbleday', 'Ducy', 'Dyer', 'Edmondes', 'Edolph', 'Englefield', 'Fleet', 'Justice']\n"
     ]
    }
   ],
   "source": [
    "entities.sort()\n",
    "print(entities)"
   ]
  }
 ],
 "metadata": {
  "kernelspec": {
   "display_name": "base",
   "language": "python",
   "name": "python3"
  },
  "language_info": {
   "codemirror_mode": {
    "name": "ipython",
    "version": 3
   },
   "file_extension": ".py",
   "mimetype": "text/x-python",
   "name": "python",
   "nbconvert_exporter": "python",
   "pygments_lexer": "ipython3",
   "version": "3.9.13"
  },
  "orig_nbformat": 4
 },
 "nbformat": 4,
 "nbformat_minor": 2
}
